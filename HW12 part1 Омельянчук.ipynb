{
 "cells": [
  {
   "cell_type": "code",
   "execution_count": 8,
   "id": "2cbe0e39-307c-4981-80d9-ffc04cb2f2d4",
   "metadata": {},
   "outputs": [],
   "source": [
    "import numpy as np\n",
    "\n",
    "import pandas as pd \n",
    "import seaborn as sns\n",
    "import matplotlib.pyplot as plt\n",
    "from scipy.stats import shapiro\n",
    "import scipy.stats as stats\n",
    "import scipy.stats as ss"
   ]
  },
  {
   "cell_type": "code",
   "execution_count": 2,
   "id": "5b205dd6-0e66-4085-9e77-3c36f4902406",
   "metadata": {},
   "outputs": [],
   "source": [
    "ab = pd.read_excel(\"df_ab_test.xlsx\")"
   ]
  },
  {
   "cell_type": "code",
   "execution_count": 3,
   "id": "732d4840-9318-44d3-8ff7-660ae63ad4ad",
   "metadata": {},
   "outputs": [
    {
     "data": {
      "text/html": [
       "<div>\n",
       "<style scoped>\n",
       "    .dataframe tbody tr th:only-of-type {\n",
       "        vertical-align: middle;\n",
       "    }\n",
       "\n",
       "    .dataframe tbody tr th {\n",
       "        vertical-align: top;\n",
       "    }\n",
       "\n",
       "    .dataframe thead th {\n",
       "        text-align: right;\n",
       "    }\n",
       "</style>\n",
       "<table border=\"1\" class=\"dataframe\">\n",
       "  <thead>\n",
       "    <tr style=\"text-align: right;\">\n",
       "      <th></th>\n",
       "      <th>data</th>\n",
       "      <th>sample</th>\n",
       "    </tr>\n",
       "  </thead>\n",
       "  <tbody>\n",
       "    <tr>\n",
       "      <th>0</th>\n",
       "      <td>101.622050</td>\n",
       "      <td>test</td>\n",
       "    </tr>\n",
       "    <tr>\n",
       "      <th>1</th>\n",
       "      <td>97.693698</td>\n",
       "      <td>test</td>\n",
       "    </tr>\n",
       "    <tr>\n",
       "      <th>2</th>\n",
       "      <td>108.837310</td>\n",
       "      <td>test</td>\n",
       "    </tr>\n",
       "    <tr>\n",
       "      <th>3</th>\n",
       "      <td>88.519357</td>\n",
       "      <td>test</td>\n",
       "    </tr>\n",
       "    <tr>\n",
       "      <th>4</th>\n",
       "      <td>91.358254</td>\n",
       "      <td>test</td>\n",
       "    </tr>\n",
       "    <tr>\n",
       "      <th>...</th>\n",
       "      <td>...</td>\n",
       "      <td>...</td>\n",
       "    </tr>\n",
       "    <tr>\n",
       "      <th>795</th>\n",
       "      <td>100.974802</td>\n",
       "      <td>control</td>\n",
       "    </tr>\n",
       "    <tr>\n",
       "      <th>796</th>\n",
       "      <td>96.527106</td>\n",
       "      <td>control</td>\n",
       "    </tr>\n",
       "    <tr>\n",
       "      <th>797</th>\n",
       "      <td>109.217752</td>\n",
       "      <td>control</td>\n",
       "    </tr>\n",
       "    <tr>\n",
       "      <th>798</th>\n",
       "      <td>99.092552</td>\n",
       "      <td>control</td>\n",
       "    </tr>\n",
       "    <tr>\n",
       "      <th>799</th>\n",
       "      <td>96.629595</td>\n",
       "      <td>control</td>\n",
       "    </tr>\n",
       "  </tbody>\n",
       "</table>\n",
       "<p>800 rows × 2 columns</p>\n",
       "</div>"
      ],
      "text/plain": [
       "           data   sample\n",
       "0    101.622050     test\n",
       "1     97.693698     test\n",
       "2    108.837310     test\n",
       "3     88.519357     test\n",
       "4     91.358254     test\n",
       "..          ...      ...\n",
       "795  100.974802  control\n",
       "796   96.527106  control\n",
       "797  109.217752  control\n",
       "798   99.092552  control\n",
       "799   96.629595  control\n",
       "\n",
       "[800 rows x 2 columns]"
      ]
     },
     "execution_count": 3,
     "metadata": {},
     "output_type": "execute_result"
    }
   ],
   "source": [
    "ab"
   ]
  },
  {
   "cell_type": "code",
   "execution_count": 4,
   "id": "3c7e0c32-5d1d-4a7d-8deb-093b743cceed",
   "metadata": {},
   "outputs": [
    {
     "data": {
      "text/html": [
       "<div>\n",
       "<style scoped>\n",
       "    .dataframe tbody tr th:only-of-type {\n",
       "        vertical-align: middle;\n",
       "    }\n",
       "\n",
       "    .dataframe tbody tr th {\n",
       "        vertical-align: top;\n",
       "    }\n",
       "\n",
       "    .dataframe thead th {\n",
       "        text-align: right;\n",
       "    }\n",
       "</style>\n",
       "<table border=\"1\" class=\"dataframe\">\n",
       "  <thead>\n",
       "    <tr style=\"text-align: right;\">\n",
       "      <th></th>\n",
       "      <th>count</th>\n",
       "      <th>mean</th>\n",
       "      <th>std</th>\n",
       "      <th>min</th>\n",
       "      <th>1%</th>\n",
       "      <th>5%</th>\n",
       "      <th>10%</th>\n",
       "      <th>20%</th>\n",
       "      <th>50%</th>\n",
       "      <th>80%</th>\n",
       "      <th>90%</th>\n",
       "      <th>95%</th>\n",
       "      <th>99%</th>\n",
       "      <th>max</th>\n",
       "    </tr>\n",
       "  </thead>\n",
       "  <tbody>\n",
       "    <tr>\n",
       "      <th>data</th>\n",
       "      <td>800.0</td>\n",
       "      <td>100.050762</td>\n",
       "      <td>5.312902</td>\n",
       "      <td>80.791472</td>\n",
       "      <td>87.406499</td>\n",
       "      <td>91.395161</td>\n",
       "      <td>93.216322</td>\n",
       "      <td>95.45792</td>\n",
       "      <td>99.994645</td>\n",
       "      <td>104.783756</td>\n",
       "      <td>106.701855</td>\n",
       "      <td>108.844512</td>\n",
       "      <td>111.153999</td>\n",
       "      <td>115.008118</td>\n",
       "    </tr>\n",
       "  </tbody>\n",
       "</table>\n",
       "</div>"
      ],
      "text/plain": [
       "      count        mean       std        min         1%         5%        10%  \\\n",
       "data  800.0  100.050762  5.312902  80.791472  87.406499  91.395161  93.216322   \n",
       "\n",
       "           20%        50%         80%         90%         95%         99%  \\\n",
       "data  95.45792  99.994645  104.783756  106.701855  108.844512  111.153999   \n",
       "\n",
       "             max  \n",
       "data  115.008118  "
      ]
     },
     "execution_count": 4,
     "metadata": {},
     "output_type": "execute_result"
    }
   ],
   "source": [
    "# Summary Stats: sum_gamerounds\n",
    "ab.describe([0.01, 0.05, 0.10, 0.20, 0.80, 0.90, 0.95, 0.99])[[\"data\"]].T\n",
    "#.T значения будут в строку"
   ]
  },
  {
   "cell_type": "code",
   "execution_count": 5,
   "id": "361f181a-bd08-4e65-b4e0-235af39b964d",
   "metadata": {},
   "outputs": [
    {
     "data": {
      "text/html": [
       "<div>\n",
       "<style scoped>\n",
       "    .dataframe tbody tr th:only-of-type {\n",
       "        vertical-align: middle;\n",
       "    }\n",
       "\n",
       "    .dataframe tbody tr th {\n",
       "        vertical-align: top;\n",
       "    }\n",
       "\n",
       "    .dataframe thead th {\n",
       "        text-align: right;\n",
       "    }\n",
       "</style>\n",
       "<table border=\"1\" class=\"dataframe\">\n",
       "  <thead>\n",
       "    <tr style=\"text-align: right;\">\n",
       "      <th></th>\n",
       "      <th>count</th>\n",
       "      <th>median</th>\n",
       "      <th>mean</th>\n",
       "      <th>std</th>\n",
       "      <th>max</th>\n",
       "    </tr>\n",
       "    <tr>\n",
       "      <th>sample</th>\n",
       "      <th></th>\n",
       "      <th></th>\n",
       "      <th></th>\n",
       "      <th></th>\n",
       "      <th></th>\n",
       "    </tr>\n",
       "  </thead>\n",
       "  <tbody>\n",
       "    <tr>\n",
       "      <th>control</th>\n",
       "      <td>400</td>\n",
       "      <td>100.131783</td>\n",
       "      <td>100.200502</td>\n",
       "      <td>5.158982</td>\n",
       "      <td>112.435521</td>\n",
       "    </tr>\n",
       "    <tr>\n",
       "      <th>test</th>\n",
       "      <td>400</td>\n",
       "      <td>99.694387</td>\n",
       "      <td>99.901022</td>\n",
       "      <td>5.464846</td>\n",
       "      <td>115.008118</td>\n",
       "    </tr>\n",
       "  </tbody>\n",
       "</table>\n",
       "</div>"
      ],
      "text/plain": [
       "         count      median        mean       std         max\n",
       "sample                                                      \n",
       "control    400  100.131783  100.200502  5.158982  112.435521\n",
       "test       400   99.694387   99.901022  5.464846  115.008118"
      ]
     },
     "execution_count": 5,
     "metadata": {},
     "output_type": "execute_result"
    }
   ],
   "source": [
    "# A/B Groups & Target Summary Stats\n",
    "ab.groupby(\"sample\").data.agg([\"count\", \"median\", \"mean\", \"std\", \"max\"])"
   ]
  },
  {
   "cell_type": "code",
   "execution_count": 6,
   "id": "2594960b-ad27-4787-b366-27eaa1201d19",
   "metadata": {},
   "outputs": [
    {
     "data": {
      "text/html": [
       "<div>\n",
       "<style scoped>\n",
       "    .dataframe tbody tr th:only-of-type {\n",
       "        vertical-align: middle;\n",
       "    }\n",
       "\n",
       "    .dataframe tbody tr th {\n",
       "        vertical-align: top;\n",
       "    }\n",
       "\n",
       "    .dataframe thead th {\n",
       "        text-align: right;\n",
       "    }\n",
       "</style>\n",
       "<table border=\"1\" class=\"dataframe\">\n",
       "  <thead>\n",
       "    <tr style=\"text-align: right;\">\n",
       "      <th></th>\n",
       "      <th>data</th>\n",
       "      <th>sample</th>\n",
       "    </tr>\n",
       "  </thead>\n",
       "  <tbody>\n",
       "    <tr>\n",
       "      <th>0</th>\n",
       "      <td>101.622050</td>\n",
       "      <td>A</td>\n",
       "    </tr>\n",
       "    <tr>\n",
       "      <th>1</th>\n",
       "      <td>97.693698</td>\n",
       "      <td>A</td>\n",
       "    </tr>\n",
       "    <tr>\n",
       "      <th>2</th>\n",
       "      <td>108.837310</td>\n",
       "      <td>A</td>\n",
       "    </tr>\n",
       "    <tr>\n",
       "      <th>3</th>\n",
       "      <td>88.519357</td>\n",
       "      <td>A</td>\n",
       "    </tr>\n",
       "    <tr>\n",
       "      <th>4</th>\n",
       "      <td>91.358254</td>\n",
       "      <td>A</td>\n",
       "    </tr>\n",
       "    <tr>\n",
       "      <th>...</th>\n",
       "      <td>...</td>\n",
       "      <td>...</td>\n",
       "    </tr>\n",
       "    <tr>\n",
       "      <th>795</th>\n",
       "      <td>100.974802</td>\n",
       "      <td>B</td>\n",
       "    </tr>\n",
       "    <tr>\n",
       "      <th>796</th>\n",
       "      <td>96.527106</td>\n",
       "      <td>B</td>\n",
       "    </tr>\n",
       "    <tr>\n",
       "      <th>797</th>\n",
       "      <td>109.217752</td>\n",
       "      <td>B</td>\n",
       "    </tr>\n",
       "    <tr>\n",
       "      <th>798</th>\n",
       "      <td>99.092552</td>\n",
       "      <td>B</td>\n",
       "    </tr>\n",
       "    <tr>\n",
       "      <th>799</th>\n",
       "      <td>96.629595</td>\n",
       "      <td>B</td>\n",
       "    </tr>\n",
       "  </tbody>\n",
       "</table>\n",
       "<p>800 rows × 2 columns</p>\n",
       "</div>"
      ],
      "text/plain": [
       "           data sample\n",
       "0    101.622050      A\n",
       "1     97.693698      A\n",
       "2    108.837310      A\n",
       "3     88.519357      A\n",
       "4     91.358254      A\n",
       "..          ...    ...\n",
       "795  100.974802      B\n",
       "796   96.527106      B\n",
       "797  109.217752      B\n",
       "798   99.092552      B\n",
       "799   96.629595      B\n",
       "\n",
       "[800 rows x 2 columns]"
      ]
     },
     "execution_count": 6,
     "metadata": {},
     "output_type": "execute_result"
    }
   ],
   "source": [
    "ab[\"sample\"] = np.where(ab['sample'] == \"test\", \"A\", \"B\")\n",
    "ab"
   ]
  },
  {
   "cell_type": "code",
   "execution_count": 7,
   "id": "45de375b-f560-4e83-b6b6-a29ae30656e9",
   "metadata": {},
   "outputs": [
    {
     "name": "stdout",
     "output_type": "stream",
     "text": [
      "# A/B Testing Hypothesis\n",
      "H0: A == B\n",
      "H1: A != B \n",
      "\n"
     ]
    },
    {
     "data": {
      "text/html": [
       "<div>\n",
       "<style scoped>\n",
       "    .dataframe tbody tr th:only-of-type {\n",
       "        vertical-align: middle;\n",
       "    }\n",
       "\n",
       "    .dataframe tbody tr th {\n",
       "        vertical-align: top;\n",
       "    }\n",
       "\n",
       "    .dataframe thead th {\n",
       "        text-align: right;\n",
       "    }\n",
       "</style>\n",
       "<table border=\"1\" class=\"dataframe\">\n",
       "  <thead>\n",
       "    <tr style=\"text-align: right;\">\n",
       "      <th></th>\n",
       "      <th>Test Type</th>\n",
       "      <th>Homogeneity</th>\n",
       "      <th>AB Hypothesis</th>\n",
       "      <th>p-value</th>\n",
       "      <th>Comment</th>\n",
       "    </tr>\n",
       "  </thead>\n",
       "  <tbody>\n",
       "    <tr>\n",
       "      <th>0</th>\n",
       "      <td>Parametric</td>\n",
       "      <td>Yes</td>\n",
       "      <td>Fail to Reject H0</td>\n",
       "      <td>0.425695</td>\n",
       "      <td>A/B groups are similar!</td>\n",
       "    </tr>\n",
       "  </tbody>\n",
       "</table>\n",
       "</div>"
      ],
      "text/plain": [
       "    Test Type Homogeneity      AB Hypothesis   p-value  \\\n",
       "0  Parametric         Yes  Fail to Reject H0  0.425695   \n",
       "\n",
       "                   Comment  \n",
       "0  A/B groups are similar!  "
      ]
     },
     "execution_count": 7,
     "metadata": {},
     "output_type": "execute_result"
    }
   ],
   "source": [
    "# A/B Testing Function - Quick Solution\n",
    "# target изучаемая метрика\n",
    "def AB_Test(dataframe, group, target):\n",
    "    \n",
    "    # Packages\n",
    "    from scipy.stats import shapiro\n",
    "    import scipy.stats as stats\n",
    "    \n",
    "    # Split A/B\n",
    "    groupA = dataframe[dataframe[group] == \"A\"][target]\n",
    "    groupB = dataframe[dataframe[group] == \"B\"][target]\n",
    "    \n",
    "    # Assumption: Normality\n",
    "    ntA = shapiro(groupA)[1] < 0.05\n",
    "    ntB = shapiro(groupB)[1] < 0.05\n",
    "    # H0: Distribution is Normal! - False\n",
    "    # H1: Distribution is not Normal! - True\n",
    "    \n",
    "    if (ntA == False) & (ntB == False): # \"H0: Normal Distribution\"\n",
    "        # Parametric Test\n",
    "        # Assumption: Homogeneity of variances\n",
    "        leveneTest = stats.levene(groupA, groupB)[1] < 0.05\n",
    "        # H0: Homogeneity: False\n",
    "        # H1: Heterogeneous: True\n",
    "        \n",
    "        if leveneTest == False:\n",
    "            # Homogeneity\n",
    "            ttest = stats.ttest_ind(groupA, groupB, equal_var=True)[1]\n",
    "            # H0: M1 == M2 - False\n",
    "            # H1: M1 != M2 - True\n",
    "        else:\n",
    "            # Heterogeneous\n",
    "            ttest = stats.ttest_ind(groupA, groupB, equal_var=False)[1]\n",
    "            # H0: M1 == M2 - False\n",
    "            # H1: M1 != M2 - True\n",
    "    else:\n",
    "        # Non-Parametric Test\n",
    "        ttest = stats.mannwhitneyu(groupA, groupB)[1] \n",
    "        # H0: M1 == M2 - False\n",
    "        # H1: M1 != M2 - True\n",
    "        \n",
    "    # Result\n",
    "    temp = pd.DataFrame({\n",
    "        \"AB Hypothesis\":[ttest < 0.05], \n",
    "        \"p-value\":[ttest]\n",
    "    })\n",
    "    temp[\"Test Type\"] = np.where((ntA == False) & (ntB == False), \"Parametric\", \"Non-Parametric\")\n",
    "    temp[\"AB Hypothesis\"] = np.where(temp[\"AB Hypothesis\"] == False, \"Fail to Reject H0\", \"Reject H0\")\n",
    "    temp[\"Comment\"] = np.where(temp[\"AB Hypothesis\"] == \"Fail to Reject H0\", \"A/B groups are similar!\", \"A/B groups are not similar!\")\n",
    "    \n",
    "    # Columns\n",
    "    if (ntA == False) & (ntB == False):\n",
    "        temp[\"Homogeneity\"] = np.where(leveneTest == False, \"Yes\", \"No\")\n",
    "        temp = temp[[\"Test Type\", \"Homogeneity\",\"AB Hypothesis\", \"p-value\", \"Comment\"]]\n",
    "    else:\n",
    "        temp = temp[[\"Test Type\",\"AB Hypothesis\", \"p-value\", \"Comment\"]]\n",
    "    \n",
    "    # Print Hypothesis\n",
    "    print(\"# A/B Testing Hypothesis\")\n",
    "    print(\"H0: A == B\")\n",
    "    print(\"H1: A != B\", \"\\n\")\n",
    "    \n",
    "    return temp\n",
    "    \n",
    "    \n",
    "    \n",
    "# Apply A/B Testing\n",
    "AB_Test(dataframe=ab, group = \"sample\", target = \"data\")\n"
   ]
  },
  {
   "cell_type": "code",
   "execution_count": 13,
   "id": "0725c3d2-7415-4c02-aabb-9bed4317bc0c",
   "metadata": {},
   "outputs": [],
   "source": [
    "test = ab[ab['sample'] == \"A\"]['data']\n",
    "control = ab[ab['sample'] == \"B\"]['data']"
   ]
  },
  {
   "cell_type": "markdown",
   "id": "01fe9513-1c3e-4f74-aa05-51f41a6ecc80",
   "metadata": {},
   "source": [
    "<span style=\"font-weight: bold;\">Тестируем на нормальность</span>"
   ]
  },
  {
   "cell_type": "code",
   "execution_count": 15,
   "id": "8065f769-90b0-462f-9066-c6ea58261727",
   "metadata": {},
   "outputs": [
    {
     "name": "stdout",
     "output_type": "stream",
     "text": [
      "ShapiroResult(statistic=0.9957486495220561, pvalue=0.35406769376096614)\n",
      "ShapiroResult(statistic=0.9935246435614979, pvalue=0.08447904959497456)\n"
     ]
    }
   ],
   "source": [
    "#через scipy\n",
    " \n",
    "print(ss.shapiro(test))\n",
    "print(ss.shapiro(control))"
   ]
  },
  {
   "cell_type": "markdown",
   "id": "b3bdaab0-159a-4272-a7b3-644f4f03a2bb",
   "metadata": {},
   "source": [
    "<span style=\"font-weight: bold;\">Вывод</span> \n",
    "\n",
    "На основании результатов теста Шапиро-Уилка можно сделать вывод, что данные тестовой группы, вероятно, имеют нормальное распределение, так как p-значение (0.354) больше уровня значимости 0.05. Для данных из контрольной группы p-значение (0.084) также превышает уровень значимости, что также указывает на то, что эти данные вероятно имеют нормальное распределение."
   ]
  },
  {
   "cell_type": "markdown",
   "id": "45c9fc11-ff7c-477d-912c-625ba19ccf19",
   "metadata": {},
   "source": [
    "<span style=\"font-weight: bold;\">Проверяем на дисперсию с помощью критерия Левина</span>"
   ]
  },
  {
   "cell_type": "code",
   "execution_count": 16,
   "id": "61b3fbce-3786-42c2-b438-4559eb0173c5",
   "metadata": {},
   "outputs": [
    {
     "data": {
      "text/plain": [
       "LeveneResult(statistic=1.8230727405150926, pvalue=0.17733076894977076)"
      ]
     },
     "execution_count": 16,
     "metadata": {},
     "output_type": "execute_result"
    }
   ],
   "source": [
    "ss.levene(test, control)"
   ]
  },
  {
   "cell_type": "markdown",
   "id": "80320345-2d2d-49c6-b931-839e601887d2",
   "metadata": {},
   "source": [
    "<span style=\"font-weight: bold;\">Вывод</span> \n",
    "\n",
    "Для результатов теста Левена (Levene test) значение p-value равно 0.177, что значительно превышает уровень значимости 0.05. Это означает, что у нас нет статистически значимых доказательств против нулевой гипотезы о равенстве дисперсий двух выборок. Следовательно, мы не можем отвергнуть нулевую гипотезу о равенстве дисперсий."
   ]
  },
  {
   "cell_type": "code",
   "execution_count": 17,
   "id": "6c363d27-73b0-41e3-b80f-7b8f14df5efc",
   "metadata": {},
   "outputs": [
    {
     "data": {
      "text/plain": [
       "TtestResult(statistic=-0.7969885197879127, pvalue=0.42569475614907903, df=798.0)"
      ]
     },
     "execution_count": 17,
     "metadata": {},
     "output_type": "execute_result"
    }
   ],
   "source": [
    "#t критерий стьюдента\n",
    "ss.ttest_ind(test, control)"
   ]
  },
  {
   "cell_type": "markdown",
   "id": "17ef2bcd-b66f-471f-98dc-3dd5e89642cb",
   "metadata": {},
   "source": [
    "<span style=\"font-weight: bold;\">Вывод</span> \n",
    "\n",
    "На основании результатов t-теста можно сделать вывод, что нет статистически значимой разницы между средними значениями тестовой и контрольной группы, так как p-значение (0.426) значительно превышает уровень значимости 0.05. Это означает, что мы не можем отвергнуть нулевую гипотезу о равенстве средних значений двух выборок."
   ]
  },
  {
   "cell_type": "code",
   "execution_count": null,
   "id": "94807dfd-d1cc-4f88-a406-0139900a3641",
   "metadata": {},
   "outputs": [],
   "source": []
  }
 ],
 "metadata": {
  "kernelspec": {
   "display_name": "Python 3 (ipykernel)",
   "language": "python",
   "name": "python3"
  },
  "language_info": {
   "codemirror_mode": {
    "name": "ipython",
    "version": 3
   },
   "file_extension": ".py",
   "mimetype": "text/x-python",
   "name": "python",
   "nbconvert_exporter": "python",
   "pygments_lexer": "ipython3",
   "version": "3.12.1"
  }
 },
 "nbformat": 4,
 "nbformat_minor": 5
}
